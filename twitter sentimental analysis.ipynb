{
 "cells": [
  {
   "cell_type": "code",
   "execution_count": 3,
   "metadata": {},
   "outputs": [],
   "source": [
    "from textblob import TextBlob\n",
    "import sys\n",
    "import tweepy\n",
    "import matplotlib.pyplot as plt\n",
    "def percentage(part,whole):\n",
    "    return 100 * float(part)/float(whole)\n",
    "consumerkey=\"\"\n",
    "consumersecret=\"\"\n",
    "accesstoken=\"\"\n",
    "accesstokensecret=\"\"\n",
    "auth=tweepy.OAuthHandler(consumerkey,consumersecret)\n",
    "auth.set_access_token(accesstoken,accesstokensecret)\n",
    "api=tweepy.API(auth)"
   ]
  },
  {
   "cell_type": "code",
   "execution_count": 12,
   "metadata": {
    "scrolled": false
   },
   "outputs": [
    {
     "name": "stdout",
     "output_type": "stream",
     "text": [
      "Analysing 100 tweets for different coffee brands in Delhi/NCR: \n",
      "\n",
      "0.00% people likes mccafe\n",
      "0.50% people likes costa coffee\n",
      "3.00% people dislikes barista\n",
      "12.00% people likes CCD\n",
      "29.00% people likes starbucks\n"
     ]
    }
   ],
   "source": [
    "brands=[\"mccafe\",\"costa coffee\",\"barista\",\"CCD\",\"starbucks\"]\n",
    "x=[]\n",
    "y=[]\n",
    "noofsearchterm=200\n",
    "#noofsearchterm = int(input(\"enter the no of tweets to analyse:\"))\n",
    "print(\"Analysing {} tweets for different coffee brands in Delhi/NCR: \\n\".format(noofsearchterm))\n",
    "for b in brands:\n",
    "    searchterm = b\n",
    "    tweets=tweepy.Cursor(api.search,q=searchterm,lang=\"en\",geocode=\"28.64386,77.12373,50km\").items(noofsearchterm)\n",
    "    positive=0\n",
    "    negative=0\n",
    "    neutral=0\n",
    "    polarity=0\n",
    "    for tweet in tweets:\n",
    "        #print(tweet.user.location)\n",
    "        analysis=TextBlob(tweet.text)\n",
    "        polarity+=analysis.sentiment.polarity\n",
    "        if(polarity==0):\n",
    "            neutral+=1\n",
    "        elif(polarity<0):\n",
    "            negative+=1\n",
    "        elif(polarity>0):\n",
    "            positive+=1\n",
    "    positive=percentage(positive,noofsearchterm)\n",
    "    negative=percentage(negative,noofsearchterm)\n",
    "    neutral=percentage(neutral,noofsearchterm)\n",
    "    positive=format(positive,'.2f')\n",
    "    negative=format(negative,'.2f')\n",
    "    neutral=format(neutral,'.2f')\n",
    "    #print(\"How many people are reacting on \" + searchterm + \" by analysing \" + str(noofsearchterm)+ ' tweets.')\n",
    "    if(polarity==0):\n",
    "        #print(\"neutral\")\n",
    "        print(neutral+\"% people likes \"+searchterm)\n",
    "        x.append(searchterm)\n",
    "        y.append(neutral)\n",
    "    elif(polarity<0):\n",
    "        #print(\"negative\")\n",
    "        print(negative+\"% people dislikes \"+searchterm)\n",
    "        x.append(searchterm)\n",
    "        y.append(negative)\n",
    "    elif(polarity>0):\n",
    "        #print(\"positive\")\n",
    "        print(positive+\"% people likes \"+searchterm)\n",
    "        x.append(searchterm)\n",
    "        y.append(positive)"
   ]
  },
  {
   "cell_type": "code",
   "execution_count": 13,
   "metadata": {},
   "outputs": [
    {
     "data": {
      "image/png": "[encoded data removed]",
      "text/plain": [
       "<Figure size 432x288 with 1 Axes>"
      ]
     },
     "metadata": {
      "needs_background": "light"
     },
     "output_type": "display_data"
    }
   ],
   "source": [
    "plt.bar(x,y)\n",
    "plt.tight_layout()\n",
    "plt.show()"
   ]
  },
  {
   "cell_type": "code",
   "execution_count": 14,
   "metadata": {},
   "outputs": [
    {
     "name": "stdout",
     "output_type": "stream",
     "text": [
      "\n",
      "Customers who prefers CCD are:\n",
      "the_alchemist92\n",
      "sumitkashyapjha\n",
      "Nambitiger1\n",
      "BhallaDimple\n",
      "ishtalks\n",
      "surya9717\n",
      "theCanonFanboy\n",
      "sunitakatyal\n",
      "cool_bindra\n",
      "khushi_kingdom\n",
      "Acharyaempire\n",
      "akadud\n",
      "AkashK95\n",
      "cuteushakumari\n",
      "cuteushakumari\n",
      "BaneJava\n",
      "i5achin_\n",
      "jokeralways24X7\n",
      "bagla\n",
      "nvrdefeateddpk\n",
      "Valprajj\n",
      "FinancialXpress\n",
      "Utkarshjha999\n",
      "vermaaakash10\n",
      "\n",
      "Customers who prefers barista are:\n",
      "BiIndia\n",
      "boss14_bigg\n",
      "boss14_bigg\n",
      "biconwoman\n",
      "Srishtea_\n",
      "Designer_Banda\n"
     ]
    }
   ],
   "source": [
    "#extracting customers of main competitors of starbucks i.e., CCD and Barista.\n",
    "competitors=[\"CCD\",\"barista\"]\n",
    "for i in competitors:\n",
    "    tweets=tweepy.Cursor(api.search,q=i,lang=\"en\",geocode=\"28.64386,77.12373,50km\").items(100)\n",
    "    print(\"\\n\"+\"Customers who prefers \"+i+\" are:\")\n",
    "    for tweet in tweets:\n",
    "        print(tweet.user.screen_name)"
   ]
  }
 ],
 "metadata": {
  "kernelspec": {
   "display_name": "Python 3",
   "language": "python",
   "name": "python3"
  },
  "language_info": {
   "codemirror_mode": {
    "name": "ipython",
    "version": 3
   },
   "file_extension": ".py",
   "mimetype": "text/x-python",
   "name": "python",
   "nbconvert_exporter": "python",
   "pygments_lexer": "ipython3",
   "version": "3.8.5"
  }
 },
 "nbformat": 4,
 "nbformat_minor": 2
}
